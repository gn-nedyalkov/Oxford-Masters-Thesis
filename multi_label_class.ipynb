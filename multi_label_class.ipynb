{
 "cells": [
  {
   "cell_type": "markdown",
   "metadata": {},
   "source": [
    "# Multilabel classification for amorphous silicon structures"
   ]
  },
  {
   "cell_type": "code",
   "execution_count": null,
   "metadata": {},
   "outputs": [],
   "source": [
    "import matplotlib.pyplot as plt\n",
    "import numpy as np\n",
    "import pandas as pd\n",
    "import torch\n",
    "import torch.nn as nn\n",
    "import torch.optim as optim\n",
    "from sklearn.model_selection import train_test_split\n",
    "from sklearn.datasets import make_classification\n",
    "from torch.utils.data import DataLoader, TensorDataset\n",
    "from steinhardt import get_steinhardt_params"
   ]
  },
  {
   "cell_type": "markdown",
   "metadata": {},
   "source": [
    "## Data pre-processing"
   ]
  },
  {
   "cell_type": "markdown",
   "metadata": {},
   "source": [
    "### Get dataset with atomic coordinates and turn it into a dataset with Stenhard OPs"
   ]
  },
  {
   "cell_type": "code",
   "execution_count": 31,
   "metadata": {},
   "outputs": [],
   "source": [
    "df=pd.read_pickle('/u/vld/sjoh5417/part-2/week-2/week-2/aSi-classifier/df_npt_anneal_293K_ptm-labels_-1.pckl.gzip', compression='gzip')"
   ]
  },
  {
   "cell_type": "markdown",
   "metadata": {},
   "source": [
    "### Keep labels to 1 for all crystal-like environments"
   ]
  },
  {
   "cell_type": "code",
   "execution_count": 47,
   "metadata": {},
   "outputs": [],
   "source": [
    "# Create an array with the labels\n",
    "\n",
    "label_arrays=[]\n",
    "num_rows = df.shape[0]\n",
    "for i in range(0, num_rows):\n",
    "    labels_structure_i=(df['PTM_cat_labels'][i]) #this is a vector with one label for each atom in the structure\n",
    "    label_arrays.append(labels_structure_i) #append the label vector for each structure to the label_arrays list\n",
    "\n",
    "labels=np.hstack((label_arrays)) # stack the vectors "
   ]
  },
  {
   "cell_type": "code",
   "execution_count": 48,
   "metadata": {},
   "outputs": [
    {
     "name": "stdout",
     "output_type": "stream",
     "text": [
      "{'Paracrystalline': 8485, 'Polycrystalline': 152522, 'Diamond': 13008}\n"
     ]
    }
   ],
   "source": [
    "num_ones = np.sum(labels == 1)\n",
    "num_twos= np.sum(labels == 2)\n",
    "num_threes= np.sum(labels == 3)\n",
    "print({f:num for f,num in zip(['Paracrystalline', 'Polycrystalline', 'Diamond'], [num_ones, num_twos, num_threes])})"
   ]
  },
  {
   "cell_type": "code",
   "execution_count": null,
   "metadata": {},
   "outputs": [],
   "source": [
    "# Generate steinhardt parameters and stack them in a numpy array\n",
    "\n",
    "num_rows = df.shape[0]\n",
    "arrays=[]\n",
    "stein=np.empty(shape=(0, 30))\n",
    "for i in range(0, num_rows):\n",
    "    stein_params_structure_i=get_steinhardt_params(df['ase_atoms'][i], cutoff_radius=10, numb_neighbours=16, q_l_values = np.arange(3,13,1), w_l_values=np.arange(4,14,2))\n",
    "    arrays.append(stein_params_structure_i)\n",
    "    \n",
    "result=np.vstack((arrays))\n",
    "\n",
    "    Save the result as a CSV file#     # Save the result as a CSV\n",
    "np.savetxt('steinhardt_params_cutoff_10.csv', result, delimiter=',')\n"
   ]
  },
  {
   "cell_type": "code",
   "execution_count": 49,
   "metadata": {},
   "outputs": [],
   "source": [
    "# Get steinhard parameters from csv file\n",
    "steinhard_params = np.genfromtxt('/u/vld/sjoh5417/part-2/week-2/week-2/aSi-classifier/steinhard_param_storage.csv', delimiter=',')[1:]\n"
   ]
  },
  {
   "cell_type": "markdown",
   "metadata": {},
   "source": [
    "### Split the dataset with Steinhardt OPs into a training and test set"
   ]
  },
  {
   "cell_type": "code",
   "execution_count": 50,
   "metadata": {},
   "outputs": [],
   "source": [
    "(X_train,X_test,Y_train, Y_test)=train_test_split(steinhard_params, labels, test_size=0.2, random_state=42)\n"
   ]
  },
  {
   "cell_type": "markdown",
   "metadata": {},
   "source": [
    "## Resampling (optional)"
   ]
  },
  {
   "cell_type": "code",
   "execution_count": 16,
   "metadata": {},
   "outputs": [],
   "source": [
    "# train_dataframe = pd.DataFrame(np.concatenate([X_train, Y_train.reshape(-1, 1)], axis=1))"
   ]
  },
  {
   "cell_type": "code",
   "execution_count": 17,
   "metadata": {},
   "outputs": [],
   "source": [
    "# #separate minority and majority classes\n",
    "# negative = train_dataframe[train_dataframe[30]==0]\n",
    "# positive = train_dataframe[train_dataframe[30]==1]"
   ]
  },
  {
   "cell_type": "code",
   "execution_count": 23,
   "metadata": {},
   "outputs": [],
   "source": [
    "# #downsample majority\n",
    "# from sklearn.utils import resample\n",
    "\n",
    "# pos_downsampled = resample(positive,\n",
    "#  replace=True, # sample with replacement\n",
    "#  n_samples=int(len(positive)/20), # match number in minority class\n",
    "#  random_state=27) # reproducible results# combine minority and downsampled majority\n",
    "# downsampled = pd.concat([negative, pos_downsampled])# check new class counts"
   ]
  },
  {
   "cell_type": "code",
   "execution_count": 24,
   "metadata": {},
   "outputs": [],
   "source": [
    "# X_train_downsampled = downsampled.iloc[:, :-1].values\n",
    "# Y_train_downsampled = downsampled.iloc[:, -1].values"
   ]
  },
  {
   "cell_type": "markdown",
   "metadata": {},
   "source": []
  },
  {
   "cell_type": "code",
   "execution_count": 51,
   "metadata": {},
   "outputs": [],
   "source": [
    "from sklearn import preprocessing\n",
    "\n",
    "scaler = preprocessing.StandardScaler().fit(X_train)\n",
    "scaled_x_train = torch.FloatTensor(scaler.transform(X_train))\n",
    "scaled_x_test = torch.FloatTensor(scaler.transform(X_test))"
   ]
  },
  {
   "cell_type": "markdown",
   "metadata": {},
   "source": []
  },
  {
   "cell_type": "markdown",
   "metadata": {},
   "source": [
    "## Model set-up"
   ]
  },
  {
   "cell_type": "code",
   "execution_count": 52,
   "metadata": {},
   "outputs": [
    {
     "name": "stderr",
     "output_type": "stream",
     "text": [
      "/tmp/ipykernel_1858156/1203322134.py:1: UserWarning: To copy construct from a tensor, it is recommended to use sourceTensor.clone().detach() or sourceTensor.clone().detach().requires_grad_(True), rather than torch.tensor(sourceTensor).\n",
      "  X_train = torch.tensor(scaled_x_train, dtype=torch.float32)\n",
      "/tmp/ipykernel_1858156/1203322134.py:2: UserWarning: To copy construct from a tensor, it is recommended to use sourceTensor.clone().detach() or sourceTensor.clone().detach().requires_grad_(True), rather than torch.tensor(sourceTensor).\n",
      "  X_test = torch.tensor(scaled_x_test, dtype=torch.float32)\n"
     ]
    }
   ],
   "source": [
    "X_train = torch.tensor(scaled_x_train, dtype=torch.float32)\n",
    "X_test = torch.tensor(scaled_x_test, dtype=torch.float32)\n",
    "Y_train = torch.tensor(Y_train, dtype=torch.float32)\n",
    "Y_test = torch.tensor(Y_test, dtype=torch.float32)\n",
    "\n",
    "\n",
    "train_data = TensorDataset(X_train, Y_train)\n",
    "test_data = TensorDataset(X_test, Y_test)\n",
    "\n",
    "train_loader = DataLoader(train_data, batch_size=32, shuffle=True)\n",
    "test_loader = DataLoader(test_data, batch_size=32)\n"
   ]
  },
  {
   "cell_type": "code",
   "execution_count": 53,
   "metadata": {},
   "outputs": [],
   "source": [
    "class NNClassifier(nn.Module):\n",
    "    def __init__(self):\n",
    "        super(NNClassifier, self).__init__()\n",
    "        self.fc1 = nn.Linear(30, 24)  # input features: 30, hidden: 16\n",
    "        self.fc2 = nn.Linear(24, 12)   # hidden: 16, output hidden: 8\n",
    "        self.fc3 = nn.Linear(12, 4)    # hidden: 8, output: 1\n",
    "        self.relu = nn.ReLU()         # ReLU activation function (can define relu here and use it in forward instead of torch.relu)\n",
    "\n",
    "    def forward(self, x):\n",
    "        x = torch.relu(self.fc1(x))   # Activation function after first layer\n",
    "        # Alternative way to apply activation function\n",
    "        # x=self.fc1(x)\n",
    "        # x=self.relu(x)\n",
    "        x = torch.relu(self.fc2(x))   # Activation function after second layer\n",
    "        x = self.fc3(x)               # Final layer output\n",
    "        return x        # Sigmoid activation function for binary classification \n"
   ]
  },
  {
   "cell_type": "code",
   "execution_count": 85,
   "metadata": {},
   "outputs": [],
   "source": [
    "model = NNClassifier()\n",
    "torch.manual_seed(42)\n",
    "criterion = nn.CrossEntropyLoss()  # Binary Cross-Entropy Loss\n",
    "optimizer = optim.Adam(model.parameters(), lr=0.001)"
   ]
  },
  {
   "cell_type": "markdown",
   "metadata": {},
   "source": [
    "### Training the model"
   ]
  },
  {
   "cell_type": "code",
   "execution_count": 86,
   "metadata": {},
   "outputs": [
    {
     "name": "stdout",
     "output_type": "stream",
     "text": [
      "Epoch [1/50], Loss: 0.0494\n",
      "Epoch [2/50], Loss: 0.0391\n",
      "Epoch [3/50], Loss: 0.0368\n",
      "Epoch [4/50], Loss: 0.0357\n",
      "Epoch [5/50], Loss: 0.0352\n",
      "Epoch [6/50], Loss: 0.0349\n",
      "Epoch [7/50], Loss: 0.0347\n",
      "Epoch [8/50], Loss: 0.0344\n",
      "Epoch [9/50], Loss: 0.0342\n",
      "Epoch [10/50], Loss: 0.0340\n",
      "Epoch [11/50], Loss: 0.0338\n",
      "Epoch [12/50], Loss: 0.0336\n",
      "Epoch [13/50], Loss: 0.0336\n",
      "Epoch [14/50], Loss: 0.0335\n",
      "Epoch [15/50], Loss: 0.0333\n",
      "Epoch [16/50], Loss: 0.0332\n",
      "Epoch [17/50], Loss: 0.0332\n",
      "Epoch [18/50], Loss: 0.0330\n",
      "Epoch [19/50], Loss: 0.0329\n",
      "Epoch [20/50], Loss: 0.0329\n",
      "Epoch [21/50], Loss: 0.0329\n",
      "Epoch [22/50], Loss: 0.0329\n",
      "Epoch [23/50], Loss: 0.0328\n",
      "Epoch [24/50], Loss: 0.0328\n",
      "Epoch [25/50], Loss: 0.0327\n",
      "Epoch [26/50], Loss: 0.0326\n",
      "Epoch [27/50], Loss: 0.0326\n",
      "Epoch [28/50], Loss: 0.0325\n",
      "Epoch [29/50], Loss: 0.0325\n",
      "Epoch [30/50], Loss: 0.0324\n",
      "Epoch [31/50], Loss: 0.0324\n",
      "Epoch [32/50], Loss: 0.0324\n",
      "Epoch [33/50], Loss: 0.0324\n",
      "Epoch [34/50], Loss: 0.0323\n",
      "Epoch [35/50], Loss: 0.0323\n",
      "Epoch [36/50], Loss: 0.0323\n",
      "Epoch [37/50], Loss: 0.0322\n",
      "Epoch [38/50], Loss: 0.0322\n",
      "Epoch [39/50], Loss: 0.0322\n",
      "Epoch [40/50], Loss: 0.0321\n",
      "Epoch [41/50], Loss: 0.0321\n",
      "Epoch [42/50], Loss: 0.0321\n",
      "Epoch [43/50], Loss: 0.0321\n",
      "Epoch [44/50], Loss: 0.0320\n",
      "Epoch [45/50], Loss: 0.0321\n",
      "Epoch [46/50], Loss: 0.0322\n",
      "Epoch [47/50], Loss: 0.0320\n",
      "Epoch [48/50], Loss: 0.0320\n",
      "Epoch [49/50], Loss: 0.0319\n",
      "Epoch [50/50], Loss: 0.0321\n"
     ]
    }
   ],
   "source": [
    "num_epochs = 50\n",
    "for epoch in range(num_epochs):\n",
    "    model.train()\n",
    "    running_loss = 0.0\n",
    "    for data, labels in train_loader:\n",
    "        # Zero the parameter gradients\n",
    "        optimizer.zero_grad()\n",
    "\n",
    "        # Forward pass\n",
    "        outputs = model(data)\n",
    "        # labels = torch.unsqueeze(labels, 1)  # Add an extra dimension to the labels\n",
    "\n",
    "        labels=labels.long()\n",
    "        loss = criterion(outputs, labels)\n",
    "\n",
    "        # Backward pass and optimize\n",
    "        loss.backward()\n",
    "        optimizer.step()\n",
    "\n",
    "        running_loss += loss.item()\n",
    "\n",
    "    print(f'Epoch [{epoch+1}/{num_epochs}], Loss: {running_loss/len(train_loader):.4f}')"
   ]
  },
  {
   "cell_type": "markdown",
   "metadata": {},
   "source": [
    "## Testing"
   ]
  },
  {
   "cell_type": "code",
   "execution_count": 87,
   "metadata": {},
   "outputs": [
    {
     "name": "stdout",
     "output_type": "stream",
     "text": [
      "Accuracy: 0.9883\n"
     ]
    }
   ],
   "source": [
    "import seaborn as sns\n",
    "\n",
    "# Evaluation mode (disable gradients for testing)\n",
    "model.eval()\n",
    "\n",
    "# Initialize counts for confusion matrix\n",
    "TP = 0  # True Positives\n",
    "TN = 0  # True Negatives\n",
    "FP = 0  # False Positives\n",
    "FN = 0  # False Negatives\n",
    "\n",
    "# Track correct predictions\n",
    "correct = 0\n",
    "total = 0\n",
    "list_of_ones=0\n",
    "\n",
    "with torch.no_grad():  # No need to calculate gradients during testing\n",
    "    for data, labels in test_loader:\n",
    "        outputs = model(data)\n",
    "        _, predicted = torch.max(outputs, 1)\n",
    "        total += labels.size(0)\n",
    "        # predicted = predicted.view(-1)  # Flatten predicted (N, 1) -> (N,)\n",
    "        # labels = labels.view(-1)        # Flatten labels (1, N) -> (N,)\n",
    "        correct+=(predicted==labels).sum().item()\n",
    "\n",
    "print(f'Accuracy: {correct/total:.4f}')\n",
    "    \n",
    "\n",
    "\n"
   ]
  },
  {
   "cell_type": "markdown",
   "metadata": {},
   "source": [
    "Old confusion matrix"
   ]
  },
  {
   "cell_type": "code",
   "execution_count": 83,
   "metadata": {},
   "outputs": [
    {
     "data": {
      "text/plain": [
       "<Figure size 640x480 with 0 Axes>"
      ]
     },
     "metadata": {},
     "output_type": "display_data"
    },
    {
     "data": {
      "image/png": "[encoded data removed]",
      "text/plain": [
       "<Figure size 700x700 with 2 Axes>"
      ]
     },
     "metadata": {},
     "output_type": "display_data"
    }
   ],
   "source": [
    "from sklearn.metrics import confusion_matrix, ConfusionMatrixDisplay\n",
    "\n",
    "def plot_confusion_matrix(model, test_loader):\n",
    "    model.eval()\n",
    "    y_true = []\n",
    "    y_pred = []\n",
    "\n",
    "    with torch.no_grad():\n",
    "        for X_batch, y_batch in test_loader:\n",
    "            outputs = model(X_batch)\n",
    "            _, predicted = torch.max(outputs, 1)\n",
    "            y_true.extend(y_batch.numpy())\n",
    "            y_pred.extend(predicted.numpy())\n",
    "\n",
    "    cm = confusion_matrix(y_true, y_pred)\n",
    "    disp = ConfusionMatrixDisplay(confusion_matrix=cm, display_labels=['CRN','Paracrystalline', 'Polycrystalline', 'Diamond'])\n",
    "    fig, ax = plt.subplots(figsize=(7, 7))\n",
    "    disp.plot(cmap=plt.cm.Blues, ax=ax)\n",
    "    # disp.plot(cmap=plt.cm.Blues)\n",
    "    plt.title(\"Confusion Matrix\")\n",
    "    plt.show()\n",
    "\n",
    "# Plot the confusion matrix\n",
    "plt.savefig('confusion_matrix_multi_label_class.png')\n",
    "plot_confusion_matrix(model, test_loader)"
   ]
  },
  {
   "cell_type": "markdown",
   "metadata": {},
   "source": [
    "### New confusion matrix"
   ]
  },
  {
   "cell_type": "code",
   "execution_count": 88,
   "metadata": {},
   "outputs": [
    {
     "data": {
      "image/png": "[encoded data removed]",
      "text/plain": [
       "<Figure size 1000x800 with 2 Axes>"
      ]
     },
     "metadata": {},
     "output_type": "display_data"
    }
   ],
   "source": [
    "import seaborn as sns\n",
    "from sklearn.metrics import confusion_matrix\n",
    "\n",
    "def plot_confusion_matrix(model, test_loader):\n",
    "    model.eval()\n",
    "    y_true = []\n",
    "    y_pred = []\n",
    "\n",
    "    with torch.no_grad():\n",
    "        for data, labels in test_loader:\n",
    "            outputs = model(data)\n",
    "            _, predicted = torch.max(outputs, 1)\n",
    "            y_true.extend(labels.numpy())\n",
    "            y_pred.extend(predicted.numpy())\n",
    "\n",
    "    cm = confusion_matrix(y_true, y_pred)\n",
    "\n",
    "    cm_normalised=cm/cm.sum(axis=1, keepdims=True)\n",
    "\n",
    "    plt.figure(figsize=(10, 8))\n",
    "    sns.heatmap(cm, annot=True, cmap='Blues', fmt=\".0f\", cbar=False, xticklabels=['CRN','Paracrystalline', 'Polycrystalline', 'Diamond'], yticklabels=['CRN','Paracrystalline', 'Polycrystalline', 'Diamond'])\n",
    "    ax=sns.heatmap(cm_normalised, annot=False,  cmap='Blues', cbar=True,\n",
    "                 cbar_kws={\"label\":\"Relative probability per row\"},\n",
    "                 xticklabels=['CRN','Paracrystalline', 'Polycrystalline', 'Diamond'], yticklabels=['CRN','Paracrystalline', 'Polycrystalline', 'Diamond'])\n",
    "    for i in range(cm.shape[0]):\n",
    "        for j in range(cm.shape[1]):\n",
    "            # Set text color to white if the background is dark (intensity > 0.5)\n",
    "            color = \"white\" if cm_normalised[i, j] > 0.5 else \"black\"\n",
    "            ax.text(j + 0.5, i + 0.5, f\"{cm[i, j]:.0f}\", ha=\"center\", va=\"center\", color=color)\n",
    "    plt.savefig('confusion_matrix_multi_label_class_3.png')\n",
    "    plt.show()\n",
    "\n",
    "\n",
    "\n",
    "plot_confusion_matrix(model, test_loader)\n",
    "    "
   ]
  },
  {
   "cell_type": "code",
   "execution_count": 89,
   "metadata": {},
   "outputs": [
    {
     "name": "stdout",
     "output_type": "stream",
     "text": [
      "              precision    recall  f1-score   support\n",
      "\n",
      "         0.0       0.99      1.00      0.99    228631\n",
      "         1.0       0.69      0.36      0.47      1710\n",
      "         2.0       0.95      0.97      0.96     30506\n",
      "         3.0       0.97      0.99      0.98      2601\n",
      "\n",
      "    accuracy                           0.99    263448\n",
      "   macro avg       0.90      0.83      0.85    263448\n",
      "weighted avg       0.99      0.99      0.99    263448\n",
      "\n"
     ]
    }
   ],
   "source": [
    "from sklearn.metrics import classification_report\n",
    "\n",
    "def print_classification_report(model, test_loader):\n",
    "    model.eval()\n",
    "    y_true = []\n",
    "    y_pred = []\n",
    "    with torch.no_grad():\n",
    "        for data, labels in test_loader:\n",
    "            outputs = model(data)\n",
    "            _, predicted = torch.max(outputs, 1)\n",
    "            y_true.extend(labels.tolist())\n",
    "            y_pred.extend(predicted.tolist())\n",
    "        \n",
    "    print(classification_report(y_true, y_pred))\n",
    "\n",
    "print_classification_report(model, test_loader)\n",
    "\n",
    "\n",
    "    "
   ]
  }
 ],
 "metadata": {
  "kernelspec": {
   "display_name": "project-2",
   "language": "python",
   "name": "python3"
  },
  "language_info": {
   "codemirror_mode": {
    "name": "ipython",
    "version": 3
   },
   "file_extension": ".py",
   "mimetype": "text/x-python",
   "name": "python",
   "nbconvert_exporter": "python",
   "pygments_lexer": "ipython3",
   "version": "3.10.15"
  }
 },
 "nbformat": 4,
 "nbformat_minor": 2
}
